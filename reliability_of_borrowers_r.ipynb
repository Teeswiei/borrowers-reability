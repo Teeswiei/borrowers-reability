{
 "cells": [
  {
   "cell_type": "markdown",
   "id": "cfc79a3e",
   "metadata": {},
   "source": [
    "# Исследование надёжности заёмщиков"
   ]
  },
  {
   "cell_type": "markdown",
   "id": "055c7104",
   "metadata": {},
   "source": [
    "Описание проекта\\\n",
    "Заказчик — кредитный отдел банка. Нужно разобраться, влияет ли семейное положение и количество детей клиента на факт погашения кредита в срок. Входные данные от банка — статистика о платёжеспособности клиентов.\\\n",
    "Результаты исследования будут учтены при построении модели кредитного скоринга — специальной системы, которая оценивает способность потенциального заёмщика вернуть кредит банку."
   ]
  },
  {
   "cell_type": "markdown",
   "id": "432896ea",
   "metadata": {},
   "source": [
    "Описание данных\n",
    "\n",
    "- children — количество детей в семье\n",
    "\n",
    "- days_employed — общий трудовой стаж в днях\n",
    "\n",
    "- dob_years — возраст клиента в годах\n",
    "\n",
    "- education — уровень образования клиента\n",
    "\n",
    "- education_id — идентификатор уровня образования\n",
    "\n",
    "- family_status — семейное положение\n",
    "\n",
    "- family_status_id — идентификатор семейного положения\n",
    "\n",
    "- gender — пол клиента\n",
    "\n",
    "- income_type — тип занятости\n",
    "\n",
    "- debt — имел ли задолженность по возврату кредитов\n",
    "\n",
    "- total_income — ежемесячный доход\n",
    "\n",
    "- purpose — цель получения кредита"
   ]
  },
  {
   "cell_type": "code",
   "execution_count": 42,
   "id": "81fb7928",
   "metadata": {},
   "outputs": [],
   "source": [
    "import pandas as pd\n",
    "\n",
    "try:\n",
    "    data = pd.read_csv('data_borrowers.csv')\n",
    "except:\n",
    "    print('error')"
   ]
  },
  {
   "cell_type": "code",
   "execution_count": 43,
   "id": "88d1d800",
   "metadata": {},
   "outputs": [
    {
     "data": {
      "text/html": [
       "<div>\n",
       "<style scoped>\n",
       "    .dataframe tbody tr th:only-of-type {\n",
       "        vertical-align: middle;\n",
       "    }\n",
       "\n",
       "    .dataframe tbody tr th {\n",
       "        vertical-align: top;\n",
       "    }\n",
       "\n",
       "    .dataframe thead th {\n",
       "        text-align: right;\n",
       "    }\n",
       "</style>\n",
       "<table border=\"1\" class=\"dataframe\">\n",
       "  <thead>\n",
       "    <tr style=\"text-align: right;\">\n",
       "      <th></th>\n",
       "      <th>children</th>\n",
       "      <th>days_employed</th>\n",
       "      <th>dob_years</th>\n",
       "      <th>education</th>\n",
       "      <th>education_id</th>\n",
       "      <th>family_status</th>\n",
       "      <th>family_status_id</th>\n",
       "      <th>gender</th>\n",
       "      <th>income_type</th>\n",
       "      <th>debt</th>\n",
       "      <th>total_income</th>\n",
       "      <th>purpose</th>\n",
       "    </tr>\n",
       "  </thead>\n",
       "  <tbody>\n",
       "    <tr>\n",
       "      <th>0</th>\n",
       "      <td>1</td>\n",
       "      <td>-8437.673028</td>\n",
       "      <td>42</td>\n",
       "      <td>высшее</td>\n",
       "      <td>0</td>\n",
       "      <td>женат / замужем</td>\n",
       "      <td>0</td>\n",
       "      <td>F</td>\n",
       "      <td>сотрудник</td>\n",
       "      <td>0</td>\n",
       "      <td>253875.639453</td>\n",
       "      <td>покупка жилья</td>\n",
       "    </tr>\n",
       "    <tr>\n",
       "      <th>1</th>\n",
       "      <td>1</td>\n",
       "      <td>-4024.803754</td>\n",
       "      <td>36</td>\n",
       "      <td>среднее</td>\n",
       "      <td>1</td>\n",
       "      <td>женат / замужем</td>\n",
       "      <td>0</td>\n",
       "      <td>F</td>\n",
       "      <td>сотрудник</td>\n",
       "      <td>0</td>\n",
       "      <td>112080.014102</td>\n",
       "      <td>приобретение автомобиля</td>\n",
       "    </tr>\n",
       "    <tr>\n",
       "      <th>2</th>\n",
       "      <td>0</td>\n",
       "      <td>-5623.422610</td>\n",
       "      <td>33</td>\n",
       "      <td>Среднее</td>\n",
       "      <td>1</td>\n",
       "      <td>женат / замужем</td>\n",
       "      <td>0</td>\n",
       "      <td>M</td>\n",
       "      <td>сотрудник</td>\n",
       "      <td>0</td>\n",
       "      <td>145885.952297</td>\n",
       "      <td>покупка жилья</td>\n",
       "    </tr>\n",
       "    <tr>\n",
       "      <th>3</th>\n",
       "      <td>3</td>\n",
       "      <td>-4124.747207</td>\n",
       "      <td>32</td>\n",
       "      <td>среднее</td>\n",
       "      <td>1</td>\n",
       "      <td>женат / замужем</td>\n",
       "      <td>0</td>\n",
       "      <td>M</td>\n",
       "      <td>сотрудник</td>\n",
       "      <td>0</td>\n",
       "      <td>267628.550329</td>\n",
       "      <td>дополнительное образование</td>\n",
       "    </tr>\n",
       "    <tr>\n",
       "      <th>4</th>\n",
       "      <td>0</td>\n",
       "      <td>340266.072047</td>\n",
       "      <td>53</td>\n",
       "      <td>среднее</td>\n",
       "      <td>1</td>\n",
       "      <td>гражданский брак</td>\n",
       "      <td>1</td>\n",
       "      <td>F</td>\n",
       "      <td>пенсионер</td>\n",
       "      <td>0</td>\n",
       "      <td>158616.077870</td>\n",
       "      <td>сыграть свадьбу</td>\n",
       "    </tr>\n",
       "    <tr>\n",
       "      <th>5</th>\n",
       "      <td>0</td>\n",
       "      <td>-926.185831</td>\n",
       "      <td>27</td>\n",
       "      <td>высшее</td>\n",
       "      <td>0</td>\n",
       "      <td>гражданский брак</td>\n",
       "      <td>1</td>\n",
       "      <td>M</td>\n",
       "      <td>компаньон</td>\n",
       "      <td>0</td>\n",
       "      <td>255763.565419</td>\n",
       "      <td>покупка жилья</td>\n",
       "    </tr>\n",
       "    <tr>\n",
       "      <th>6</th>\n",
       "      <td>0</td>\n",
       "      <td>-2879.202052</td>\n",
       "      <td>43</td>\n",
       "      <td>высшее</td>\n",
       "      <td>0</td>\n",
       "      <td>женат / замужем</td>\n",
       "      <td>0</td>\n",
       "      <td>F</td>\n",
       "      <td>компаньон</td>\n",
       "      <td>0</td>\n",
       "      <td>240525.971920</td>\n",
       "      <td>операции с жильем</td>\n",
       "    </tr>\n",
       "    <tr>\n",
       "      <th>7</th>\n",
       "      <td>0</td>\n",
       "      <td>-152.779569</td>\n",
       "      <td>50</td>\n",
       "      <td>СРЕДНЕЕ</td>\n",
       "      <td>1</td>\n",
       "      <td>женат / замужем</td>\n",
       "      <td>0</td>\n",
       "      <td>M</td>\n",
       "      <td>сотрудник</td>\n",
       "      <td>0</td>\n",
       "      <td>135823.934197</td>\n",
       "      <td>образование</td>\n",
       "    </tr>\n",
       "    <tr>\n",
       "      <th>8</th>\n",
       "      <td>2</td>\n",
       "      <td>-6929.865299</td>\n",
       "      <td>35</td>\n",
       "      <td>ВЫСШЕЕ</td>\n",
       "      <td>0</td>\n",
       "      <td>гражданский брак</td>\n",
       "      <td>1</td>\n",
       "      <td>F</td>\n",
       "      <td>сотрудник</td>\n",
       "      <td>0</td>\n",
       "      <td>95856.832424</td>\n",
       "      <td>на проведение свадьбы</td>\n",
       "    </tr>\n",
       "    <tr>\n",
       "      <th>9</th>\n",
       "      <td>0</td>\n",
       "      <td>-2188.756445</td>\n",
       "      <td>41</td>\n",
       "      <td>среднее</td>\n",
       "      <td>1</td>\n",
       "      <td>женат / замужем</td>\n",
       "      <td>0</td>\n",
       "      <td>M</td>\n",
       "      <td>сотрудник</td>\n",
       "      <td>0</td>\n",
       "      <td>144425.938277</td>\n",
       "      <td>покупка жилья для семьи</td>\n",
       "    </tr>\n",
       "    <tr>\n",
       "      <th>10</th>\n",
       "      <td>2</td>\n",
       "      <td>-4171.483647</td>\n",
       "      <td>36</td>\n",
       "      <td>высшее</td>\n",
       "      <td>0</td>\n",
       "      <td>женат / замужем</td>\n",
       "      <td>0</td>\n",
       "      <td>M</td>\n",
       "      <td>компаньон</td>\n",
       "      <td>0</td>\n",
       "      <td>113943.491460</td>\n",
       "      <td>покупка недвижимости</td>\n",
       "    </tr>\n",
       "    <tr>\n",
       "      <th>11</th>\n",
       "      <td>0</td>\n",
       "      <td>-792.701887</td>\n",
       "      <td>40</td>\n",
       "      <td>среднее</td>\n",
       "      <td>1</td>\n",
       "      <td>женат / замужем</td>\n",
       "      <td>0</td>\n",
       "      <td>F</td>\n",
       "      <td>сотрудник</td>\n",
       "      <td>0</td>\n",
       "      <td>77069.234271</td>\n",
       "      <td>покупка коммерческой недвижимости</td>\n",
       "    </tr>\n",
       "    <tr>\n",
       "      <th>12</th>\n",
       "      <td>0</td>\n",
       "      <td>NaN</td>\n",
       "      <td>65</td>\n",
       "      <td>среднее</td>\n",
       "      <td>1</td>\n",
       "      <td>гражданский брак</td>\n",
       "      <td>1</td>\n",
       "      <td>M</td>\n",
       "      <td>пенсионер</td>\n",
       "      <td>0</td>\n",
       "      <td>NaN</td>\n",
       "      <td>сыграть свадьбу</td>\n",
       "    </tr>\n",
       "    <tr>\n",
       "      <th>13</th>\n",
       "      <td>0</td>\n",
       "      <td>-1846.641941</td>\n",
       "      <td>54</td>\n",
       "      <td>неоконченное высшее</td>\n",
       "      <td>2</td>\n",
       "      <td>женат / замужем</td>\n",
       "      <td>0</td>\n",
       "      <td>F</td>\n",
       "      <td>сотрудник</td>\n",
       "      <td>0</td>\n",
       "      <td>130458.228857</td>\n",
       "      <td>приобретение автомобиля</td>\n",
       "    </tr>\n",
       "    <tr>\n",
       "      <th>14</th>\n",
       "      <td>0</td>\n",
       "      <td>-1844.956182</td>\n",
       "      <td>56</td>\n",
       "      <td>высшее</td>\n",
       "      <td>0</td>\n",
       "      <td>гражданский брак</td>\n",
       "      <td>1</td>\n",
       "      <td>F</td>\n",
       "      <td>компаньон</td>\n",
       "      <td>1</td>\n",
       "      <td>165127.911772</td>\n",
       "      <td>покупка жилой недвижимости</td>\n",
       "    </tr>\n",
       "    <tr>\n",
       "      <th>15</th>\n",
       "      <td>1</td>\n",
       "      <td>-972.364419</td>\n",
       "      <td>26</td>\n",
       "      <td>среднее</td>\n",
       "      <td>1</td>\n",
       "      <td>женат / замужем</td>\n",
       "      <td>0</td>\n",
       "      <td>F</td>\n",
       "      <td>сотрудник</td>\n",
       "      <td>0</td>\n",
       "      <td>116820.904450</td>\n",
       "      <td>строительство собственной недвижимости</td>\n",
       "    </tr>\n",
       "    <tr>\n",
       "      <th>16</th>\n",
       "      <td>0</td>\n",
       "      <td>-1719.934226</td>\n",
       "      <td>35</td>\n",
       "      <td>среднее</td>\n",
       "      <td>1</td>\n",
       "      <td>женат / замужем</td>\n",
       "      <td>0</td>\n",
       "      <td>F</td>\n",
       "      <td>сотрудник</td>\n",
       "      <td>0</td>\n",
       "      <td>289202.704229</td>\n",
       "      <td>недвижимость</td>\n",
       "    </tr>\n",
       "    <tr>\n",
       "      <th>17</th>\n",
       "      <td>0</td>\n",
       "      <td>-2369.999720</td>\n",
       "      <td>33</td>\n",
       "      <td>высшее</td>\n",
       "      <td>0</td>\n",
       "      <td>гражданский брак</td>\n",
       "      <td>1</td>\n",
       "      <td>M</td>\n",
       "      <td>сотрудник</td>\n",
       "      <td>0</td>\n",
       "      <td>90410.586745</td>\n",
       "      <td>строительство недвижимости</td>\n",
       "    </tr>\n",
       "    <tr>\n",
       "      <th>18</th>\n",
       "      <td>0</td>\n",
       "      <td>400281.136913</td>\n",
       "      <td>53</td>\n",
       "      <td>среднее</td>\n",
       "      <td>1</td>\n",
       "      <td>вдовец / вдова</td>\n",
       "      <td>2</td>\n",
       "      <td>F</td>\n",
       "      <td>пенсионер</td>\n",
       "      <td>0</td>\n",
       "      <td>56823.777243</td>\n",
       "      <td>на покупку подержанного автомобиля</td>\n",
       "    </tr>\n",
       "    <tr>\n",
       "      <th>19</th>\n",
       "      <td>0</td>\n",
       "      <td>-10038.818549</td>\n",
       "      <td>48</td>\n",
       "      <td>СРЕДНЕЕ</td>\n",
       "      <td>1</td>\n",
       "      <td>в разводе</td>\n",
       "      <td>3</td>\n",
       "      <td>F</td>\n",
       "      <td>сотрудник</td>\n",
       "      <td>0</td>\n",
       "      <td>242831.107982</td>\n",
       "      <td>на покупку своего автомобиля</td>\n",
       "    </tr>\n",
       "  </tbody>\n",
       "</table>\n",
       "</div>"
      ],
      "text/plain": [
       "    children  days_employed  dob_years            education  education_id  \\\n",
       "0          1   -8437.673028         42               высшее             0   \n",
       "1          1   -4024.803754         36              среднее             1   \n",
       "2          0   -5623.422610         33              Среднее             1   \n",
       "3          3   -4124.747207         32              среднее             1   \n",
       "4          0  340266.072047         53              среднее             1   \n",
       "5          0    -926.185831         27               высшее             0   \n",
       "6          0   -2879.202052         43               высшее             0   \n",
       "7          0    -152.779569         50              СРЕДНЕЕ             1   \n",
       "8          2   -6929.865299         35               ВЫСШЕЕ             0   \n",
       "9          0   -2188.756445         41              среднее             1   \n",
       "10         2   -4171.483647         36               высшее             0   \n",
       "11         0    -792.701887         40              среднее             1   \n",
       "12         0            NaN         65              среднее             1   \n",
       "13         0   -1846.641941         54  неоконченное высшее             2   \n",
       "14         0   -1844.956182         56               высшее             0   \n",
       "15         1    -972.364419         26              среднее             1   \n",
       "16         0   -1719.934226         35              среднее             1   \n",
       "17         0   -2369.999720         33               высшее             0   \n",
       "18         0  400281.136913         53              среднее             1   \n",
       "19         0  -10038.818549         48              СРЕДНЕЕ             1   \n",
       "\n",
       "       family_status  family_status_id gender income_type  debt  \\\n",
       "0    женат / замужем                 0      F   сотрудник     0   \n",
       "1    женат / замужем                 0      F   сотрудник     0   \n",
       "2    женат / замужем                 0      M   сотрудник     0   \n",
       "3    женат / замужем                 0      M   сотрудник     0   \n",
       "4   гражданский брак                 1      F   пенсионер     0   \n",
       "5   гражданский брак                 1      M   компаньон     0   \n",
       "6    женат / замужем                 0      F   компаньон     0   \n",
       "7    женат / замужем                 0      M   сотрудник     0   \n",
       "8   гражданский брак                 1      F   сотрудник     0   \n",
       "9    женат / замужем                 0      M   сотрудник     0   \n",
       "10   женат / замужем                 0      M   компаньон     0   \n",
       "11   женат / замужем                 0      F   сотрудник     0   \n",
       "12  гражданский брак                 1      M   пенсионер     0   \n",
       "13   женат / замужем                 0      F   сотрудник     0   \n",
       "14  гражданский брак                 1      F   компаньон     1   \n",
       "15   женат / замужем                 0      F   сотрудник     0   \n",
       "16   женат / замужем                 0      F   сотрудник     0   \n",
       "17  гражданский брак                 1      M   сотрудник     0   \n",
       "18    вдовец / вдова                 2      F   пенсионер     0   \n",
       "19         в разводе                 3      F   сотрудник     0   \n",
       "\n",
       "     total_income                                 purpose  \n",
       "0   253875.639453                           покупка жилья  \n",
       "1   112080.014102                 приобретение автомобиля  \n",
       "2   145885.952297                           покупка жилья  \n",
       "3   267628.550329              дополнительное образование  \n",
       "4   158616.077870                         сыграть свадьбу  \n",
       "5   255763.565419                           покупка жилья  \n",
       "6   240525.971920                       операции с жильем  \n",
       "7   135823.934197                             образование  \n",
       "8    95856.832424                   на проведение свадьбы  \n",
       "9   144425.938277                 покупка жилья для семьи  \n",
       "10  113943.491460                    покупка недвижимости  \n",
       "11   77069.234271       покупка коммерческой недвижимости  \n",
       "12            NaN                         сыграть свадьбу  \n",
       "13  130458.228857                 приобретение автомобиля  \n",
       "14  165127.911772              покупка жилой недвижимости  \n",
       "15  116820.904450  строительство собственной недвижимости  \n",
       "16  289202.704229                            недвижимость  \n",
       "17   90410.586745              строительство недвижимости  \n",
       "18   56823.777243      на покупку подержанного автомобиля  \n",
       "19  242831.107982            на покупку своего автомобиля  "
      ]
     },
     "execution_count": 43,
     "metadata": {},
     "output_type": "execute_result"
    }
   ],
   "source": [
    "data.head(20)"
   ]
  },
  {
   "cell_type": "code",
   "execution_count": 44,
   "id": "30bfea89",
   "metadata": {},
   "outputs": [
    {
     "name": "stdout",
     "output_type": "stream",
     "text": [
      "<class 'pandas.core.frame.DataFrame'>\n",
      "RangeIndex: 21525 entries, 0 to 21524\n",
      "Data columns (total 12 columns):\n",
      " #   Column            Non-Null Count  Dtype  \n",
      "---  ------            --------------  -----  \n",
      " 0   children          21525 non-null  int64  \n",
      " 1   days_employed     19351 non-null  float64\n",
      " 2   dob_years         21525 non-null  int64  \n",
      " 3   education         21525 non-null  object \n",
      " 4   education_id      21525 non-null  int64  \n",
      " 5   family_status     21525 non-null  object \n",
      " 6   family_status_id  21525 non-null  int64  \n",
      " 7   gender            21525 non-null  object \n",
      " 8   income_type       21525 non-null  object \n",
      " 9   debt              21525 non-null  int64  \n",
      " 10  total_income      19351 non-null  float64\n",
      " 11  purpose           21525 non-null  object \n",
      "dtypes: float64(2), int64(5), object(5)\n",
      "memory usage: 2.0+ MB\n"
     ]
    }
   ],
   "source": [
    "data.info()"
   ]
  },
  {
   "cell_type": "markdown",
   "id": "28ba528d",
   "metadata": {},
   "source": [
    "## Предобработка данных"
   ]
  },
  {
   "cell_type": "markdown",
   "id": "5388e50d",
   "metadata": {},
   "source": [
    "### Удаление пропусков"
   ]
  },
  {
   "cell_type": "code",
   "execution_count": 45,
   "id": "66507901",
   "metadata": {},
   "outputs": [
    {
     "data": {
      "text/plain": [
       "children               0\n",
       "days_employed       2174\n",
       "dob_years              0\n",
       "education              0\n",
       "education_id           0\n",
       "family_status          0\n",
       "family_status_id       0\n",
       "gender                 0\n",
       "income_type            0\n",
       "debt                   0\n",
       "total_income        2174\n",
       "purpose                0\n",
       "dtype: int64"
      ]
     },
     "execution_count": 45,
     "metadata": {},
     "output_type": "execute_result"
    }
   ],
   "source": [
    "data.isna().sum()"
   ]
  },
  {
   "cell_type": "markdown",
   "id": "f2ab5b3b",
   "metadata": {},
   "source": [
    "В двух столбцах есть пропущенные значения. Один из них — `days_employed`. Пропуски в этом столбце я обработаю на следующем этапе. Другой столбец с пропущенными значениями — `total_income` — хранит данные о доходах. На сумму дохода сильнее всего влияет тип занятости, поэтому заполнить пропуски в этом столбце нужно медианным значением по каждому типу из столбца `income_type`. Например, у человека с типом занятости `сотрудник` пропуск в столбце `total_income` будет заполнен медианным доходом среди всех записей с тем же типом.**"
   ]
  },
  {
   "cell_type": "code",
   "execution_count": 46,
   "id": "a1926861",
   "metadata": {},
   "outputs": [],
   "source": [
    "for t in data['income_type'].unique():\n",
    "    data.loc[(data['income_type'] == t) & (data['total_income'].isna()), 'total_income'] = \\\n",
    "    data.loc[(data['income_type'] == t), 'total_income'].median()"
   ]
  },
  {
   "cell_type": "markdown",
   "id": "19cb1d97",
   "metadata": {},
   "source": [
    "### Обработка аномальных значений\n"
   ]
  },
  {
   "cell_type": "markdown",
   "id": "0d4c1b75",
   "metadata": {},
   "source": [
    "**В данных могут встречаться артефакты (аномалии) — значения, которые не отражают действительность и появились по какой-то ошибке. таким артефактом будет отрицательное количество дней трудового стажа в столбце `days_employed`.Обработаю значения в этом столбце: заменю все отрицательные значения положительными с помощью метода `abs()`.**"
   ]
  },
  {
   "cell_type": "code",
   "execution_count": 47,
   "id": "4b4f8ad2",
   "metadata": {},
   "outputs": [],
   "source": [
    "data['days_employed'] = data['days_employed'].abs()"
   ]
  },
  {
   "cell_type": "markdown",
   "id": "93e2ba27",
   "metadata": {},
   "source": [
    "Для каждого типа занятости выведу медианное значение трудового стажа `days_employed` в днях.**"
   ]
  },
  {
   "cell_type": "code",
   "execution_count": 48,
   "id": "8d469f89",
   "metadata": {},
   "outputs": [
    {
     "data": {
      "text/plain": [
       "income_type\n",
       "безработный        366413.652744\n",
       "в декрете            3296.759962\n",
       "госслужащий          2689.368353\n",
       "компаньон            1547.382223\n",
       "пенсионер          365213.306266\n",
       "предприниматель       520.848083\n",
       "сотрудник            1574.202821\n",
       "студент               578.751554\n",
       "Name: days_employed, dtype: float64"
      ]
     },
     "execution_count": 48,
     "metadata": {},
     "output_type": "execute_result"
    }
   ],
   "source": [
    "data.groupby('income_type')['days_employed'].agg('median')"
   ]
  },
  {
   "cell_type": "markdown",
   "id": "b4ec10ea",
   "metadata": {},
   "source": [
    "У двух типов (безработные и пенсионеры) получатся аномально большие значения. Исправить такие значения сложно, поэтому оставьте их как есть. Тем более этот столбец не понадобится вам для исследования."
   ]
  },
  {
   "cell_type": "markdown",
   "id": "412bf7cf",
   "metadata": {},
   "source": [
    "**Перечень уникальных значений столбца `children`.**"
   ]
  },
  {
   "cell_type": "code",
   "execution_count": 49,
   "id": "7fc0d99f",
   "metadata": {},
   "outputs": [
    {
     "data": {
      "text/plain": [
       "array([ 1,  0,  3,  2, -1,  4, 20,  5], dtype=int64)"
      ]
     },
     "execution_count": 49,
     "metadata": {},
     "output_type": "execute_result"
    }
   ],
   "source": [
    "data['children'].unique()"
   ]
  },
  {
   "cell_type": "code",
   "execution_count": 50,
   "id": "72369a69",
   "metadata": {},
   "outputs": [],
   "source": [
    "data = data[(data['children'] != -1) & (data['children'] != 20)]"
   ]
  },
  {
   "cell_type": "code",
   "execution_count": 51,
   "id": "fe9086a3",
   "metadata": {},
   "outputs": [
    {
     "data": {
      "text/plain": [
       "array([1, 0, 3, 2, 4, 5], dtype=int64)"
      ]
     },
     "execution_count": 51,
     "metadata": {},
     "output_type": "execute_result"
    }
   ],
   "source": [
    "data['children'].unique()"
   ]
  },
  {
   "cell_type": "markdown",
   "id": "1f9a77fa",
   "metadata": {},
   "source": [
    "### Удаление пропусков (продолжение)\n"
   ]
  },
  {
   "cell_type": "markdown",
   "id": "945c73c8",
   "metadata": {},
   "source": [
    "**Заполню пропуски в столбце `days_employed` медианными значениями по каждого типа занятости `income_type`.**"
   ]
  },
  {
   "cell_type": "code",
   "execution_count": 52,
   "id": "16920128",
   "metadata": {},
   "outputs": [],
   "source": [
    "for t in data['income_type'].unique():\n",
    "    data.loc[(data['income_type'] == t) & (data['days_employed'].isna()), 'days_employed'] = \\\n",
    "    data.loc[(data['income_type'] == t), 'days_employed'].median()"
   ]
  },
  {
   "cell_type": "code",
   "execution_count": 53,
   "id": "e74d107e",
   "metadata": {},
   "outputs": [
    {
     "data": {
      "text/plain": [
       "children            0\n",
       "days_employed       0\n",
       "dob_years           0\n",
       "education           0\n",
       "education_id        0\n",
       "family_status       0\n",
       "family_status_id    0\n",
       "gender              0\n",
       "income_type         0\n",
       "debt                0\n",
       "total_income        0\n",
       "purpose             0\n",
       "dtype: int64"
      ]
     },
     "execution_count": 53,
     "metadata": {},
     "output_type": "execute_result"
    }
   ],
   "source": [
    "data.isna().sum()"
   ]
  },
  {
   "cell_type": "markdown",
   "id": "267dfaa3",
   "metadata": {},
   "source": [
    "### Изменение типов данных"
   ]
  },
  {
   "cell_type": "code",
   "execution_count": 54,
   "id": "73d1a6b3",
   "metadata": {},
   "outputs": [],
   "source": [
    "data['total_income'] = data['total_income'].astype(int)"
   ]
  },
  {
   "cell_type": "markdown",
   "id": "4c8b1361",
   "metadata": {},
   "source": [
    "### Обработка дубликатов"
   ]
  },
  {
   "cell_type": "markdown",
   "id": "1bab5da5",
   "metadata": {},
   "source": [
    "**Обработаю неявные дубликаты в столбце `education`. В этом столбце есть одни и те же значения, но записанные по-разному: с использованием заглавных и строчных букв. Приведу их к нижнему регистру и проверю остальные столбцы.**"
   ]
  },
  {
   "cell_type": "code",
   "execution_count": 55,
   "id": "43a408ee",
   "metadata": {},
   "outputs": [],
   "source": [
    "data['education'] = data['education'].str.lower()"
   ]
  },
  {
   "cell_type": "code",
   "execution_count": 56,
   "id": "ab74b041",
   "metadata": {},
   "outputs": [
    {
     "data": {
      "text/plain": [
       "71"
      ]
     },
     "execution_count": 56,
     "metadata": {},
     "output_type": "execute_result"
    }
   ],
   "source": [
    "data.duplicated().sum()"
   ]
  },
  {
   "cell_type": "code",
   "execution_count": 57,
   "id": "187516a0",
   "metadata": {},
   "outputs": [],
   "source": [
    "data = data.drop_duplicates()"
   ]
  },
  {
   "cell_type": "markdown",
   "id": "10b85aca",
   "metadata": {},
   "source": [
    "### Категоризация данных\n"
   ]
  },
  {
   "cell_type": "markdown",
   "id": "7c4cf602",
   "metadata": {},
   "source": [
    "** На основании диапазонов, указанных ниже, создам в датафрейме `data` столбец `total_income_category` с категориями:**\n",
    "\n",
    "- 0–30000 — `'E'`;\n",
    "- 30001–50000 — `'D'`;\n",
    "- 50001–200000 — `'C'`;\n",
    "- 200001–1000000 — `'B'`;\n",
    "- 1000001 и выше — `'A'`."
   ]
  },
  {
   "cell_type": "code",
   "execution_count": 58,
   "id": "e8cf9003",
   "metadata": {},
   "outputs": [],
   "source": [
    "def categorize_income(income):\n",
    "    try:\n",
    "        if 0 <= income <= 30000:\n",
    "            return 'E'\n",
    "        elif 30001 <= income <= 50000:\n",
    "            return 'D'\n",
    "        elif 50001 <= income <= 200000:\n",
    "            return 'C'\n",
    "        elif 200001 <= income <= 1000000:\n",
    "            return 'B'\n",
    "        elif income >= 1000001:\n",
    "            return 'A'\n",
    "    except:\n",
    "        pass"
   ]
  },
  {
   "cell_type": "code",
   "execution_count": 59,
   "id": "3a875469",
   "metadata": {},
   "outputs": [],
   "source": [
    "data['total_income_category'] = data['total_income'].apply(categorize_income)"
   ]
  },
  {
   "cell_type": "code",
   "execution_count": 60,
   "id": "c21a24a4",
   "metadata": {},
   "outputs": [
    {
     "data": {
      "text/plain": [
       "array(['покупка жилья', 'приобретение автомобиля',\n",
       "       'дополнительное образование', 'сыграть свадьбу',\n",
       "       'операции с жильем', 'образование', 'на проведение свадьбы',\n",
       "       'покупка жилья для семьи', 'покупка недвижимости',\n",
       "       'покупка коммерческой недвижимости', 'покупка жилой недвижимости',\n",
       "       'строительство собственной недвижимости', 'недвижимость',\n",
       "       'строительство недвижимости', 'на покупку подержанного автомобиля',\n",
       "       'на покупку своего автомобиля',\n",
       "       'операции с коммерческой недвижимостью',\n",
       "       'строительство жилой недвижимости', 'жилье',\n",
       "       'операции со своей недвижимостью', 'автомобили',\n",
       "       'заняться образованием', 'сделка с подержанным автомобилем',\n",
       "       'получение образования', 'автомобиль', 'свадьба',\n",
       "       'получение дополнительного образования', 'покупка своего жилья',\n",
       "       'операции с недвижимостью', 'получение высшего образования',\n",
       "       'свой автомобиль', 'сделка с автомобилем',\n",
       "       'профильное образование', 'высшее образование',\n",
       "       'покупка жилья для сдачи', 'на покупку автомобиля', 'ремонт жилью',\n",
       "       'заняться высшим образованием'], dtype=object)"
      ]
     },
     "execution_count": 60,
     "metadata": {},
     "output_type": "execute_result"
    }
   ],
   "source": [
    "data['purpose'].unique() # уникальные цели взятия кредита"
   ]
  },
  {
   "cell_type": "markdown",
   "id": "2c970492",
   "metadata": {},
   "source": [
    "**Создам функцию, которая на основании данных из столбца `purpose` сформирует новый столбец `purpose_category`, в который войдут следующие категории:**\n",
    "\n",
    "- `'операции с автомобилем'`,\n",
    "- `'операции с недвижимостью'`,\n",
    "- `'проведение свадьбы'`,\n",
    "- `'получение образования'`."
   ]
  },
  {
   "cell_type": "code",
   "execution_count": 61,
   "id": "cbe7a4a8",
   "metadata": {},
   "outputs": [],
   "source": [
    "def categorize_purpose(row):\n",
    "    try:\n",
    "        if 'автом' in row:\n",
    "            return 'операции с автомобилем'\n",
    "        elif 'жил' in row or 'недвиж' in row:\n",
    "            return 'операции с недвижимостью'\n",
    "        elif 'свад' in row:\n",
    "            return 'проведение свадьбы'\n",
    "        elif 'образов' in row:\n",
    "            return 'получение образования'\n",
    "    except:\n",
    "        return 'нет категории'"
   ]
  },
  {
   "cell_type": "code",
   "execution_count": 62,
   "id": "4e5e9e41",
   "metadata": {},
   "outputs": [],
   "source": [
    "data['purpose_category'] = data['purpose'].apply(categorize_purpose)"
   ]
  },
  {
   "cell_type": "markdown",
   "id": "433245ab",
   "metadata": {},
   "source": [
    "### Исследование данные "
   ]
  },
  {
   "cell_type": "markdown",
   "id": "c38ce120",
   "metadata": {},
   "source": [
    "#### Есть ли зависимость между количеством детей и возвратом кредита в срок?"
   ]
  },
  {
   "cell_type": "code",
   "execution_count": 63,
   "id": "6e0fe087",
   "metadata": {},
   "outputs": [
    {
     "name": "stdout",
     "output_type": "stream",
     "text": [
      "children                 0\n",
      "days_employed            0\n",
      "dob_years                0\n",
      "education                0\n",
      "education_id             0\n",
      "family_status            0\n",
      "family_status_id         0\n",
      "gender                   0\n",
      "income_type              0\n",
      "debt                     0\n",
      "total_income             0\n",
      "purpose                  0\n",
      "total_income_category    0\n",
      "purpose_category         0\n",
      "dtype: int64\n"
     ]
    }
   ],
   "source": [
    "print(data.isna().sum()) # проверим налиичие пропусков \n"
   ]
  },
  {
   "cell_type": "code",
   "execution_count": 64,
   "id": "95fb1b36",
   "metadata": {},
   "outputs": [
    {
     "name": "stdout",
     "output_type": "stream",
     "text": [
      "[0 1 2 3 4 5]\n"
     ]
    }
   ],
   "source": [
    "print(data.sort_values(by = 'children')['children'].unique())"
   ]
  },
  {
   "cell_type": "markdown",
   "id": "ca288f2a",
   "metadata": {},
   "source": [
    "Аномальных или отрицательных значений нет, значит ничего не изменяем"
   ]
  },
  {
   "cell_type": "code",
   "execution_count": 65,
   "id": "6d002e06",
   "metadata": {},
   "outputs": [
    {
     "data": {
      "text/plain": [
       "children\n",
       "0    1063\n",
       "1     444\n",
       "2     194\n",
       "3      27\n",
       "4       4\n",
       "5       0\n",
       "Name: debt, dtype: int64"
      ]
     },
     "execution_count": 65,
     "metadata": {},
     "output_type": "execute_result"
    }
   ],
   "source": [
    "d1 = data.groupby('children')['debt'].sum() #количество клиентов с задолженносьбю с определенным количеством детей\n",
    "d1"
   ]
  },
  {
   "cell_type": "code",
   "execution_count": 66,
   "id": "71024287",
   "metadata": {},
   "outputs": [
    {
     "data": {
      "text/plain": [
       "children\n",
       "0    14091\n",
       "1     4808\n",
       "2     2052\n",
       "3      330\n",
       "4       41\n",
       "5        9\n",
       "Name: debt, dtype: int64"
      ]
     },
     "execution_count": 66,
     "metadata": {},
     "output_type": "execute_result"
    }
   ],
   "source": [
    "d2 =data.groupby('children')['debt'].count() # всего клиентов в данных с определенным количеством детей\n",
    "d2"
   ]
  },
  {
   "cell_type": "markdown",
   "id": "0ea97187",
   "metadata": {},
   "source": [
    "Посчитаем конверсию задолженности для каждой категории клиентов по количеству людей"
   ]
  },
  {
   "cell_type": "code",
   "execution_count": 67,
   "id": "5a0ca0b0",
   "metadata": {},
   "outputs": [
    {
     "data": {
      "text/plain": [
       "0    7.54%\n",
       "1    9.23%\n",
       "2    9.45%\n",
       "3    8.18%\n",
       "4    9.76%\n",
       "5    0.00%\n",
       "dtype: object"
      ]
     },
     "execution_count": 67,
     "metadata": {},
     "output_type": "execute_result"
    }
   ],
   "source": [
    "d3 = d1/d2\n",
    "columns = (f\"{d3[i]:.2%}\" for i in range(len(d3)))\n",
    "df1 = pd.Series(columns)\n",
    "df1"
   ]
  },
  {
   "cell_type": "markdown",
   "id": "317aa7c4",
   "metadata": {},
   "source": [
    "__Вывод: Как можно заметить конверсия о задолженности кредита для клиентов с определенным количеством детей от 1 до 4 почти одинакова, a минимальная конверсия у килиентов, которые не имеют детей(7.54%), максимальная у клиентов, у которых 4 ребенка(9.76%). У клиентов с пятью детьми конверсия равна нулю, но из-за этого нельзя сказать, что все клиенты с пятью детьми будут возвращать кредит всегда в срок, так как количестов клиентов с пятью детьми всего 9 в базе данных, что не сравнится, например, с количеством клиентов у кого 2 ребенка, то есть 2052. Чёткой зависимости найти не удалось.__"
   ]
  },
  {
   "cell_type": "markdown",
   "id": "de254edb",
   "metadata": {},
   "source": [
    "#### Есть ли зависимость между семейным положением и возвратом кредита в срок?"
   ]
  },
  {
   "cell_type": "code",
   "execution_count": 68,
   "id": "fd9d4864",
   "metadata": {},
   "outputs": [
    {
     "name": "stdout",
     "output_type": "stream",
     "text": [
      "['Не женат / не замужем' 'в разводе' 'вдовец / вдова' 'гражданский брак'\n",
      " 'женат / замужем']\n"
     ]
    }
   ],
   "source": [
    "print(data.sort_values('family_status')['family_status'].unique())"
   ]
  },
  {
   "cell_type": "code",
   "execution_count": 69,
   "id": "67042e35",
   "metadata": {},
   "outputs": [
    {
     "data": {
      "text/plain": [
       "0"
      ]
     },
     "execution_count": 69,
     "metadata": {},
     "output_type": "execute_result"
    }
   ],
   "source": [
    "# проверим на дубликаты \n",
    "data['family_status'] = data['family_status'].str.lower()\n",
    "data.duplicated().sum()"
   ]
  },
  {
   "cell_type": "code",
   "execution_count": 70,
   "id": "474789fd",
   "metadata": {},
   "outputs": [
    {
     "data": {
      "text/plain": [
       "array([0, 1, 2, 3, 4], dtype=int64)"
      ]
     },
     "execution_count": 70,
     "metadata": {},
     "output_type": "execute_result"
    }
   ],
   "source": [
    "data.sort_values('family_status_id')['family_status_id'].unique()"
   ]
  },
  {
   "cell_type": "code",
   "execution_count": 71,
   "id": "986d238d",
   "metadata": {},
   "outputs": [
    {
     "name": "stdout",
     "output_type": "stream",
     "text": [
      "женат / замужем          12261\n",
      "гражданский брак          4134\n",
      "не женат / не замужем     2796\n",
      "в разводе                 1189\n",
      "вдовец / вдова             951\n",
      "Name: family_status, dtype: int64\n",
      "0    12261\n",
      "1     4134\n",
      "4     2796\n",
      "3     1189\n",
      "2      951\n",
      "Name: family_status_id, dtype: int64\n"
     ]
    }
   ],
   "source": [
    "# family_status_id - категориальные данные для family_status\n",
    "print(data['family_status'].value_counts())\n",
    "print(data['family_status_id'].value_counts())"
   ]
  },
  {
   "cell_type": "markdown",
   "id": "5d83bae1",
   "metadata": {},
   "source": [
    "По количетву сопоставим id и название категории <br>\n",
    "женат / замужем - 0<br>\n",
    "гражданский брак - 1<br>\n",
    "вдовец / вдова - 2<br>\n",
    "в разводе - 3<br>\n",
    "не женат / не замужем - 4<br>\n"
   ]
  },
  {
   "cell_type": "code",
   "execution_count": 72,
   "id": "cf2a4539",
   "metadata": {},
   "outputs": [
    {
     "data": {
      "text/plain": [
       "family_status_id\n",
       "0    927\n",
       "1    385\n",
       "2     63\n",
       "3     84\n",
       "4    273\n",
       "Name: debt, dtype: int64"
      ]
     },
     "execution_count": 72,
     "metadata": {},
     "output_type": "execute_result"
    }
   ],
   "source": [
    "e1 = data.groupby('family_status_id')['debt'].sum() # количестов клиентов по категориям с заолженностью\n",
    "e1"
   ]
  },
  {
   "cell_type": "code",
   "execution_count": 73,
   "id": "eb495bbe",
   "metadata": {},
   "outputs": [
    {
     "data": {
      "text/plain": [
       "family_status_id\n",
       "0    12261\n",
       "1     4134\n",
       "2      951\n",
       "3     1189\n",
       "4     2796\n",
       "Name: debt, dtype: int64"
      ]
     },
     "execution_count": 73,
     "metadata": {},
     "output_type": "execute_result"
    }
   ],
   "source": [
    "e2 = data.groupby('family_status_id')['debt'].count() # всего количестов клиентов по категориям\n",
    "e2"
   ]
  },
  {
   "cell_type": "markdown",
   "id": "2175162a",
   "metadata": {},
   "source": [
    "Посчитаем конверсию для каждой категории клиентов"
   ]
  },
  {
   "cell_type": "code",
   "execution_count": 74,
   "id": "07152c42",
   "metadata": {},
   "outputs": [
    {
     "data": {
      "text/html": [
       "<div>\n",
       "<style scoped>\n",
       "    .dataframe tbody tr th:only-of-type {\n",
       "        vertical-align: middle;\n",
       "    }\n",
       "\n",
       "    .dataframe tbody tr th {\n",
       "        vertical-align: top;\n",
       "    }\n",
       "\n",
       "    .dataframe thead th {\n",
       "        text-align: right;\n",
       "    }\n",
       "</style>\n",
       "<table border=\"1\" class=\"dataframe\">\n",
       "  <thead>\n",
       "    <tr style=\"text-align: right;\">\n",
       "      <th></th>\n",
       "      <th>percents</th>\n",
       "      <th>status</th>\n",
       "    </tr>\n",
       "  </thead>\n",
       "  <tbody>\n",
       "    <tr>\n",
       "      <th>0</th>\n",
       "      <td>7.56%</td>\n",
       "      <td>женат / замужем</td>\n",
       "    </tr>\n",
       "    <tr>\n",
       "      <th>1</th>\n",
       "      <td>9.31%</td>\n",
       "      <td>гражданский брак</td>\n",
       "    </tr>\n",
       "    <tr>\n",
       "      <th>2</th>\n",
       "      <td>6.62%</td>\n",
       "      <td>вдовец / вдова</td>\n",
       "    </tr>\n",
       "    <tr>\n",
       "      <th>3</th>\n",
       "      <td>7.06%</td>\n",
       "      <td>в разводе</td>\n",
       "    </tr>\n",
       "    <tr>\n",
       "      <th>4</th>\n",
       "      <td>9.76%</td>\n",
       "      <td>не женат / не замужем</td>\n",
       "    </tr>\n",
       "  </tbody>\n",
       "</table>\n",
       "</div>"
      ],
      "text/plain": [
       "  percents                 status\n",
       "0    7.56%        женат / замужем\n",
       "1    9.31%       гражданский брак\n",
       "2    6.62%         вдовец / вдова\n",
       "3    7.06%              в разводе\n",
       "4    9.76%  не женат / не замужем"
      ]
     },
     "execution_count": 74,
     "metadata": {},
     "output_type": "execute_result"
    }
   ],
   "source": [
    "e3 = e1/e2\n",
    "columns1 = list(f\"{e3[i]:.2%}\" for i in range(len(e3)))\n",
    "columns2 = ['женат / замужем','гражданский брак','вдовец / вдова','в разводе','не женат / не замужем']\n",
    "df2 = pd.DataFrame({'percents': columns1, 'status': columns2})\n",
    "df2"
   ]
  },
  {
   "cell_type": "markdown",
   "id": "f471e95c",
   "metadata": {},
   "source": [
    "__Вывод: Как можно заметить у клиентов, которые принадлежат к статусу вдовец/вдова, проблем с возвращением кредита в срок меньше всего(6.62%), а у клиентов, с категорией не женат/не замужем, процент не возвращения кредита в срок самый высокий(9.76%). Объеденяя в группы клиентов по наличию партнеров, нельзя сказать, что между ними наблюдается чёткая зависимость.__ "
   ]
  },
  {
   "cell_type": "markdown",
   "id": "fb99adb6",
   "metadata": {},
   "source": [
    "#### Есть ли зависимость между уровнем дохода и возвратом кредита в срок?"
   ]
  },
  {
   "cell_type": "code",
   "execution_count": 75,
   "id": "c5a147e2",
   "metadata": {},
   "outputs": [
    {
     "name": "stdout",
     "output_type": "stream",
     "text": [
      "18504\n"
     ]
    }
   ],
   "source": [
    "print(len(data['total_income'].unique()))  "
   ]
  },
  {
   "cell_type": "markdown",
   "id": "2dfae200",
   "metadata": {},
   "source": [
    "Количестов различных значений дохода большое, значит надо категоризировать данные"
   ]
  },
  {
   "cell_type": "code",
   "execution_count": 76,
   "id": "69f5889f",
   "metadata": {},
   "outputs": [
    {
     "data": {
      "text/plain": [
       "14585      20667\n",
       "13006      21205\n",
       "16174      21367\n",
       "1598       21695\n",
       "14276      21895\n",
       "          ...   \n",
       "17178    1711309\n",
       "20809    1715018\n",
       "9169     1726276\n",
       "19606    2200852\n",
       "12412    2265604\n",
       "Name: total_income, Length: 21331, dtype: int32"
      ]
     },
     "execution_count": 76,
     "metadata": {},
     "output_type": "execute_result"
    }
   ],
   "source": [
    "data.sort_values(by = 'total_income')['total_income']"
   ]
  },
  {
   "cell_type": "markdown",
   "id": "3d8e64b4",
   "metadata": {},
   "source": [
    "Общий доход варируется от 20667 до 2265604, отрицательных значений нет, аномальных тоже"
   ]
  },
  {
   "cell_type": "code",
   "execution_count": 77,
   "id": "aa653165",
   "metadata": {},
   "outputs": [],
   "source": [
    "r3 = data.groupby('total_income_category')['debt'].mean()"
   ]
  },
  {
   "cell_type": "markdown",
   "id": "0995eae1",
   "metadata": {},
   "source": [
    "Снова посчитаем конверсию для кааждой категории клиентов по задолженности кредита"
   ]
  },
  {
   "cell_type": "code",
   "execution_count": 78,
   "id": "db8b39d4",
   "metadata": {},
   "outputs": [
    {
     "name": "stdout",
     "output_type": "stream",
     "text": [
      "total_income_category\n",
      "A    0.080000\n",
      "B    0.070602\n",
      "C    0.084982\n",
      "D    0.060172\n",
      "E    0.090909\n",
      "Name: debt, dtype: float64\n"
     ]
    },
    {
     "data": {
      "text/plain": [
       "0    8.00%\n",
       "1    7.06%\n",
       "2    8.50%\n",
       "3    6.02%\n",
       "4    9.09%\n",
       "dtype: object"
      ]
     },
     "execution_count": 78,
     "metadata": {},
     "output_type": "execute_result"
    }
   ],
   "source": [
    "print(r3)\n",
    "columns = (f\"{r3[i]:.2%}\" for i in range(len(r3)))\n",
    "df3 = pd.Series(columns)\n",
    "df3"
   ]
  },
  {
   "cell_type": "markdown",
   "id": "d3a9ce8b",
   "metadata": {},
   "source": [
    "**Вывод: Самый низкий показатель по задолженности по кредиту у клиентов категории доходов D и B. Самые высокие показатели у клиентов A, C, E категорий. Таким образом самыми \"безопасными\" клиентами для банка являются люди, чей доход составляет от 30 до 50 тысяч, самыми \"опасными\" клиенты с доходом от 0 до 30 тысяч.** "
   ]
  },
  {
   "cell_type": "markdown",
   "id": "0af770a2",
   "metadata": {},
   "source": [
    "#### Как разные цели кредита влияют на его возврат в срок?"
   ]
  },
  {
   "cell_type": "code",
   "execution_count": 79,
   "id": "84e0f01f",
   "metadata": {},
   "outputs": [
    {
     "data": {
      "text/plain": [
       "purpose_category\n",
       "операции с автомобилем      400\n",
       "операции с недвижимостью    780\n",
       "получение образования       369\n",
       "проведение свадьбы          183\n",
       "Name: debt, dtype: int64"
      ]
     },
     "execution_count": 79,
     "metadata": {},
     "output_type": "execute_result"
    }
   ],
   "source": [
    "t1 = data.groupby('purpose_category')['debt'].sum() # всего клиентов по категориям \n",
    "t1"
   ]
  },
  {
   "cell_type": "code",
   "execution_count": 80,
   "id": "218f0a91",
   "metadata": {},
   "outputs": [
    {
     "data": {
      "text/plain": [
       "purpose_category\n",
       "операции с автомобилем       4279\n",
       "операции с недвижимостью    10751\n",
       "получение образования        3988\n",
       "проведение свадьбы           2313\n",
       "Name: debt, dtype: int64"
      ]
     },
     "execution_count": 80,
     "metadata": {},
     "output_type": "execute_result"
    }
   ],
   "source": [
    "t2 = data.groupby('purpose_category')['debt'].count() # количество клиентов по категориям, которые имели задолжность\n",
    "t2"
   ]
  },
  {
   "cell_type": "markdown",
   "id": "cc4e844d",
   "metadata": {},
   "source": [
    "Найдем конверсию"
   ]
  },
  {
   "cell_type": "code",
   "execution_count": 81,
   "id": "20e45bee",
   "metadata": {},
   "outputs": [
    {
     "name": "stdout",
     "output_type": "stream",
     "text": [
      "purpose_category\n",
      "операции с автомобилем      0.093480\n",
      "операции с недвижимостью    0.072551\n",
      "получение образования       0.092528\n",
      "проведение свадьбы          0.079118\n",
      "Name: debt, dtype: float64\n"
     ]
    },
    {
     "data": {
      "text/plain": [
       "0    9.35%\n",
       "1    7.26%\n",
       "2    9.25%\n",
       "3    7.91%\n",
       "dtype: object"
      ]
     },
     "execution_count": 81,
     "metadata": {},
     "output_type": "execute_result"
    }
   ],
   "source": [
    "t3 = t1/t2\n",
    "print(t3)\n",
    "columns = (f\"{t3[i]:.2%}\" for i in range(len(t3)))\n",
    "df4 = pd.Series(columns)\n",
    "df4"
   ]
  },
  {
   "cell_type": "markdown",
   "id": "8400d3b9",
   "metadata": {},
   "source": [
    "**Вывод: Самые низкие показатели по задолженности по кредиту у клиентов, чьи цели были связаны с опрациями с недвижимостью и проведением свадьбы. Самыми высокими показателями у клиентов, чьи цели были связаны с получением образования и операциями с автомобилем.** "
   ]
  },
  {
   "cell_type": "markdown",
   "id": "8c1b8ace",
   "metadata": {},
   "source": [
    "#### Возможные причины появления пропусков в исходных данных.\n"
   ]
  },
  {
   "cell_type": "markdown",
   "id": "c56dd74b",
   "metadata": {},
   "source": [
    "*В данных пропущены значения трудового стажа в днях и доходе, причем количество пропусков совпадает и является не таким большим от общего количества данных. Мне кажется, что эти пропуски не являются техниической причиной, а сделаны из-за человеческого фактора, так как некоторые люди могут не помнить количество рабочих дней, а некотоыре могут не хотеть раскрывать сумму своего дохода.* "
   ]
  },
  {
   "cell_type": "markdown",
   "id": "3f5de319",
   "metadata": {},
   "source": [
    "#### Почему заполнить пропуски медианным значением — лучшее решение для количественных переменных."
   ]
  },
  {
   "cell_type": "markdown",
   "id": "3192519f",
   "metadata": {},
   "source": [
    "*Медианное значение - лучшее решение для заполнения пропусков количественных переменных, так как медиана - это значение выборки ровно по середине, где остальное количество значний меньших медианы равно количеству остальных значений, которые больше медианы. Также на медиану не влияют аномальные значения, в отличие от среднего арифметического.* "
   ]
  },
  {
   "cell_type": "markdown",
   "id": "c5e4434f",
   "metadata": {},
   "source": [
    "### Общий вывод."
   ]
  },
  {
   "cell_type": "markdown",
   "id": "6649c97d",
   "metadata": {},
   "source": [
    "__Общий вывод:__<br>\n",
    "Для решения поставленной задачи было выведено и проверено несколько гипотез на основании входных данных.\n",
    "\n",
    "* Количество детей влияет на появление задолженности по кредиту.\n",
    "* Семейное положение клиента влияет на появление задолженности по кредиту.\n",
    "* Уровень дохода влияет на появление задолженности по кредиту.\n",
    "* цели взятия кредита влияют на появление заодолженности по нему.\n",
    "\n",
    "\n",
    "\n",
    "__Гипотеза 1.__ <br>\n",
    "В данных действительно найдена закономерность: клиенты, у которых нет детей имеют самый маленький процент задолженности по кредиту, что составляет 7.54%. Клиенты, которые имеют от 1 до 4 детей больше подвержены задержанию выплаты кредита. Однако классы в выборке имеют разные размеры, то есть выборка не сбалансированна, а разница значений конверсии для разных категорий не слишком велика.\n",
    "* 1 ребенок - 9.23%\n",
    "* 2 ребенка - 9.45%\n",
    "* 3 ребенка - 8.18%\n",
    "* 4 ребенка - 9.76%\n",
    "* Для клиентов с 5 детьмя вывод о возврате кредита сделать нельзя, так как данных слишком мало. <br>\n",
    "\n",
    "\n",
    "__Гипотеза 2.__ <br>\n",
    "Категоризируя клиентов по наличию\\отсутствия партнеров нельзя сказать, что есть четкая зависимость по задолженности, однако, клиенты, которые не состоят или не состояли в браке, являются \"опасными\" для банка. Получается, отношения с зарегистрированным браком, положительно влияют на выплату кредита в срок.\n",
    "<br>\n",
    "* 7.56%\tженат / замужем\n",
    "* 9.31%\tгражданский брак\n",
    "* 6.62%\tвдовец / вдова\n",
    "* 7.06%\tв разводе\n",
    "* 9.76%\tне женат / не замужем<br>\n",
    "\n",
    "\n",
    "__Гипотеза 3.__ <br>\n",
    "Гипотеза частично подтверждена,однако для более чёткой зависимости требуется большее количестов данных. Самые безопасыне для банка клиенты категории доходов D и B, а самые опасные клиенты с категориями A, C, E. Чёткой зависимости не найдено, требуется большего количества данных.\n",
    "* E - 8.00% - доход < 30000\n",
    "* D - 7.06% - доход от 30000 до 50000 \n",
    "* C - 8.50% - доход от 50000 до 200000 \n",
    "* B - 6.02% - доход от 200000 до 1000000\n",
    "* A - 9.09% - доход >1000000<br>\n",
    "\n",
    "__Гипотеза 4.__ <br>\n",
    "Зависимость между этими катеогрияим обозначена. Самые низкие показатели по задолженности по кредиту у клиентов, чьи цели были связаны с опрациями с недвижимостью и проведением свадьбы. Самыми высокими показателями у клиентов, чьи цели были связаны с получением образования и операциями с автомобилем.\n",
    "* операции с автомобилем - 9.35%\n",
    "* операции с недвижимостью - 7.26%\n",
    "* получение образования - 9.25%\n",
    "* проведение свадьбы - 7.91%\n",
    "\n",
    "\n",
    "\n"
   ]
  }
 ],
 "metadata": {
  "kernelspec": {
   "display_name": "Python 3",
   "language": "python",
   "name": "python3"
  },
  "language_info": {
   "codemirror_mode": {
    "name": "ipython",
    "version": 3
   },
   "file_extension": ".py",
   "mimetype": "text/x-python",
   "name": "python",
   "nbconvert_exporter": "python",
   "pygments_lexer": "ipython3",
   "version": "3.9.12"
  }
 },
 "nbformat": 4,
 "nbformat_minor": 5
}
